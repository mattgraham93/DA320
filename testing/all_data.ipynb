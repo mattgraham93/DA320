{
 "cells": [
  {
   "cell_type": "code",
   "execution_count": 2,
   "metadata": {},
   "outputs": [],
   "source": [
    "import urllib3\n",
    "import re\n",
    "import pandas as pd"
   ]
  },
  {
   "cell_type": "code",
   "execution_count": null,
   "metadata": {},
   "outputs": [],
   "source": [
    "http = urllib3.PoolManager()\n",
    "\n",
    "def metacritic_scapre(year:int, page:int) -> pd.DataFrame:\n",
    "    link = f\"\"\n",
    "    response = http.request('', link, headers={})\n",
    "    datastring = str(response.data, \"utf_8\")\n",
    "\n",
    "    # insert data saves\n",
    "    # set dataset\n",
    "    # return df\n",
    "\n",
    "# put loop for movies here\n",
    "for year in range(2000, 2022):\n",
    "    number_of_movies = 0\n",
    "    page = 0\n",
    "\n",
    "    while True:\n",
    "\n",
    "        data = metacritic_scraper(year, page)\n",
    "        page += 1\n",
    "\n",
    "        if len(data) == 0:\n",
    "            break\n",
    "        \n",
    "        # if storing into sql\n",
    "        # for row in data.itertuples():\n",
    "        #     args = row.title, row.data, row.description, row.score, row.thumbnail\n",
    "        #     cursor.execute\n",
    "\n"
   ]
  }
 ],
 "metadata": {
  "interpreter": {
   "hash": "2be5faf79681da6f2a61fdfdd5405d65d042280f7fba6178067603e3a2925119"
  },
  "kernelspec": {
   "display_name": "Python 3.10.1 64-bit",
   "language": "python",
   "name": "python3"
  },
  "language_info": {
   "codemirror_mode": {
    "name": "ipython",
    "version": 3
   },
   "file_extension": ".py",
   "mimetype": "text/x-python",
   "name": "python",
   "nbconvert_exporter": "python",
   "pygments_lexer": "ipython3",
   "version": "3.10.1"
  },
  "orig_nbformat": 4
 },
 "nbformat": 4,
 "nbformat_minor": 2
}
