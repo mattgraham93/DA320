{
 "cells": [
  {
   "cell_type": "code",
   "execution_count": 1,
   "metadata": {},
   "outputs": [],
   "source": [
    "import json\n",
    "import pymongo\n",
    "import pprint"
   ]
  },
  {
   "cell_type": "code",
   "execution_count": 2,
   "metadata": {},
   "outputs": [],
   "source": [
    "# !pip install pymongo\n",
    "# !pip install pymongo[srv]"
   ]
  },
  {
   "cell_type": "code",
   "execution_count": 20,
   "metadata": {},
   "outputs": [],
   "source": [
    "filename = r\"C:\\repos\\auth.json\"\n",
    "\n",
    "with open(filename) as f:\n",
    "    data = json.load(f)\n",
    "    mongo_conn_st = data['mongodb3']"
   ]
  },
  {
   "cell_type": "code",
   "execution_count": 21,
   "metadata": {},
   "outputs": [
    {
     "name": "stdout",
     "output_type": "stream",
     "text": [
      "{'$clusterTime': {'clusterTime': Timestamp(1652152009, 7),\n",
      "                  'signature': {'hash': b'\\xb4\\xe3\\xeab\\xcd0v<\\xee\\x07\\xa7\\xf6'\n",
      "                                        b'\\x16A\\x8fbC{\\xa4q',\n",
      "                                'keyId': 7039397328800710670}},\n",
      " 'asserts': {'msg': 0, 'regular': 0, 'rollovers': 0, 'user': 0, 'warning': 0},\n",
      " 'atlasVersion': {'gitVersion': '43d346b322f8928db550aae247d48b27a4d47d3c',\n",
      "                  'version': '20220420.0.0.1650048530'},\n",
      " 'connections': {'available': 479, 'current': 21, 'totalCreated': 260},\n",
      " 'extra_info': {'note': 'fields vary by platform', 'page_faults': 0},\n",
      " 'host': 'cluster0-shard-00-02.t7mgw.mongodb.net:27017',\n",
      " 'localTime': datetime.datetime(2022, 5, 10, 3, 6, 49, 586000),\n",
      " 'mem': {'bits': 64,\n",
      "         'mapped': 0,\n",
      "         'mappedWithJournal': 0,\n",
      "         'resident': 0,\n",
      "         'supported': True,\n",
      "         'virtual': 0},\n",
      " 'metrics': {'aggStageCounters': {'search': 0,\n",
      "                                  'searchBeta': 0,\n",
      "                                  'searchMeta': 0},\n",
      "             'atlas': {'connectionPool': {'totalCreated': 173475}}},\n",
      " 'network': {'bytesIn': 24106241, 'bytesOut': 13052803, 'numRequests': 7057},\n",
      " 'ok': 1.0,\n",
      " 'opLatencies': {'commands': {'latency': 32270909311, 'ops': 6247},\n",
      "                 'reads': {'latency': 20906372, 'ops': 492},\n",
      "                 'writes': {'latency': 17854071, 'ops': 67}},\n",
      " 'opcounters': {'command': 6610,\n",
      "                'delete': 0,\n",
      "                'deprecated': {'getmore': 0, 'query': 4},\n",
      "                'getmore': 0,\n",
      "                'insert': 67,\n",
      "                'query': 203,\n",
      "                'update': 0},\n",
      " 'opcountersRepl': {'command': 0,\n",
      "                    'delete': 0,\n",
      "                    'deprecated': {'getmore': 0, 'query': 0},\n",
      "                    'getmore': 0,\n",
      "                    'insert': 0,\n",
      "                    'query': 0,\n",
      "                    'update': 0},\n",
      " 'operationTime': Timestamp(1652152009, 7),\n",
      " 'pid': 48702,\n",
      " 'process': 'mongod',\n",
      " 'repl': {'electionId': ObjectId('7fffffff0000000000000074'),\n",
      "          'hosts': ['cluster0-shard-00-00.t7mgw.mongodb.net:27017',\n",
      "                    'cluster0-shard-00-01.t7mgw.mongodb.net:27017',\n",
      "                    'cluster0-shard-00-02.t7mgw.mongodb.net:27017'],\n",
      "          'isWritablePrimary': True,\n",
      "          'lastWrite': {'lastWriteDate': datetime.datetime(2022, 5, 10, 3, 6, 49),\n",
      "                        'majorityOpTime': {'t': 116,\n",
      "                                           'ts': Timestamp(1652152009, 7)},\n",
      "                        'majorityWriteDate': datetime.datetime(2022, 5, 10, 3, 6, 49),\n",
      "                        'opTime': {'t': 116, 'ts': Timestamp(1652152009, 7)}},\n",
      "          'me': 'cluster0-shard-00-02.t7mgw.mongodb.net:27017',\n",
      "          'primary': 'cluster0-shard-00-02.t7mgw.mongodb.net:27017',\n",
      "          'primaryOnlyServices': {'TenantMigrationDonorService': {'numInstances': 0,\n",
      "                                                                  'state': 'running'},\n",
      "                                  'TenantMigrationRecipientService': {'numInstances': 0,\n",
      "                                                                      'state': 'running'}},\n",
      "          'rbid': 2,\n",
      "          'secondary': False,\n",
      "          'setName': 'atlas-qz6ep7-shard-0',\n",
      "          'setVersion': 7,\n",
      "          'tags': {'nodeType': 'ELECTABLE',\n",
      "                   'provider': 'AZURE',\n",
      "                   'region': 'US_WEST',\n",
      "                   'workloadType': 'OPERATIONAL'},\n",
      "          'topologyVersion': {'counter': 6,\n",
      "                              'processId': ObjectId('626ebec776aa8107baf3b209')}},\n",
      " 'storageEngine': {'backupCursorOpen': False,\n",
      "                   'dropPendingIdents': 0,\n",
      "                   'name': 'wiredTiger',\n",
      "                   'oldestRequiredTimestampForCrashRecovery': Timestamp(1652151979, 6),\n",
      "                   'persistent': True,\n",
      "                   'readOnly': False,\n",
      "                   'supportsCommittedReads': True,\n",
      "                   'supportsPendingDrops': True,\n",
      "                   'supportsResumableIndexBuilds': True,\n",
      "                   'supportsSnapshotReadConcern': True},\n",
      " 'uptime': 727042.0,\n",
      " 'uptimeEstimate': 727042,\n",
      " 'uptimeMillis': 727042033,\n",
      " 'version': '5.0.8'}\n",
      "None\n"
     ]
    }
   ],
   "source": [
    "client = pymongo.MongoClient(mongo_conn_st, authSource='mongodb')\n",
    "db = client.movies  # was admin\n",
    "serv_stat_resp= db.command('serverStatus')\n",
    "print(pprint.pprint(serv_stat_resp))"
   ]
  },
  {
   "cell_type": "code",
   "execution_count": 22,
   "metadata": {},
   "outputs": [],
   "source": [
    "imdb_movies = db['imdb_superheroes']"
   ]
  },
  {
   "cell_type": "code",
   "execution_count": 23,
   "metadata": {},
   "outputs": [
    {
     "data": {
      "text/plain": [
       "Collection(Database(MongoClient(host=['cluster0-shard-00-02.t7mgw.mongodb.net:27017', 'cluster0-shard-00-01.t7mgw.mongodb.net:27017', 'cluster0-shard-00-00.t7mgw.mongodb.net:27017'], document_class=dict, tz_aware=False, connect=True, authsource='mongodb', authmechanism='SCRAM-SHA-1', replicaset='atlas-qz6ep7-shard-0', tls=True), 'movies'), 'imdb_superheroes')"
      ]
     },
     "execution_count": 23,
     "metadata": {},
     "output_type": "execute_result"
    }
   ],
   "source": [
    "imdb_movies"
   ]
  },
  {
   "cell_type": "code",
   "execution_count": null,
   "metadata": {},
   "outputs": [],
   "source": [
    "# mongo queries\n",
    "# get meta score higher than 90 when it was released after 2010\n",
    "# {\n",
    "#     \"score\": {\n",
    "#         \"$gt\": 90\n",
    "#     } ,\n",
    "#     \"release_date\": {\n",
    "#         \"$gt\": ISODate(\"2010-01-01\")\n",
    "#     }\n",
    "# }\n",
    "\n",
    "# can also use \"_id\": ObjectId('')"
   ]
  }
 ],
 "metadata": {
  "interpreter": {
   "hash": "9cedabdd22c1840a0bd94da5ce138ddb11f3d77a0b0b886bdfdbd2a779136c7f"
  },
  "kernelspec": {
   "display_name": "Python 3.10.4 64-bit",
   "language": "python",
   "name": "python3"
  },
  "language_info": {
   "codemirror_mode": {
    "name": "ipython",
    "version": 3
   },
   "file_extension": ".py",
   "mimetype": "text/x-python",
   "name": "python",
   "nbconvert_exporter": "python",
   "pygments_lexer": "ipython3",
   "version": "3.10.4"
  },
  "orig_nbformat": 4
 },
 "nbformat": 4,
 "nbformat_minor": 2
}
